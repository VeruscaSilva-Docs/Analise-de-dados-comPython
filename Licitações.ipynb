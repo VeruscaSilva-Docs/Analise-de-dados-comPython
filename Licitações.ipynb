{
  "nbformat": 4,
  "nbformat_minor": 0,
  "metadata": {
    "colab": {
      "provenance": [],
      "mount_file_id": "1QBr_yRgthsOTW5Ko5siI9VArxm7gJdtK",
      "authorship_tag": "ABX9TyNwnpPqIjhBA19eRGyH0tov",
      "include_colab_link": true
    },
    "kernelspec": {
      "name": "python3",
      "display_name": "Python 3"
    },
    "language_info": {
      "name": "python"
    }
  },
  "cells": [
    {
      "cell_type": "markdown",
      "metadata": {
        "id": "view-in-github",
        "colab_type": "text"
      },
      "source": [
        "<a href=\"https://colab.research.google.com/github/VeruscaSilva-Docs/Analise-de-dados-comPython/blob/main/Licita%C3%A7%C3%B5es.ipynb\" target=\"_parent\"><img src=\"https://colab.research.google.com/assets/colab-badge.svg\" alt=\"Open In Colab\"/></a>"
      ]
    },
    {
      "cell_type": "code",
      "source": [
        "from google.colab import drive\n"
      ],
      "metadata": {
        "id": "6bFVxS-EnjPq"
      },
      "execution_count": 1,
      "outputs": []
    },
    {
      "cell_type": "code",
      "source": [
        "drive.mount('/content/drive')\n"
      ],
      "metadata": {
        "id": "4FcYHlGInotT",
        "outputId": "3544e827-04b4-4c92-c40d-b25d553d13d8",
        "colab": {
          "base_uri": "https://localhost:8080/"
        }
      },
      "execution_count": 2,
      "outputs": [
        {
          "output_type": "stream",
          "name": "stdout",
          "text": [
            "Drive already mounted at /content/drive; to attempt to forcibly remount, call drive.mount(\"/content/drive\", force_remount=True).\n"
          ]
        }
      ]
    },
    {
      "cell_type": "code",
      "source": [
        "import pandas as pd"
      ],
      "metadata": {
        "id": "Vp_yyGvE9v_m"
      },
      "execution_count": 8,
      "outputs": []
    },
    {
      "cell_type": "code",
      "source": [
        "dados = pd.read_csv('/content/drive/MyDrive/programaria/licitacoes (1).csv', encoding='latin1',sep=';')"
      ],
      "metadata": {
        "id": "mKqg2o8T-w0B"
      },
      "execution_count": 13,
      "outputs": []
    },
    {
      "cell_type": "code",
      "source": [
        "dados.columns"
      ],
      "metadata": {
        "colab": {
          "base_uri": "https://localhost:8080/"
        },
        "id": "GQHt-LMX_AkF",
        "outputId": "83e1761d-df2d-471d-acb2-a8906e0a95a3"
      },
      "execution_count": 14,
      "outputs": [
        {
          "output_type": "execute_result",
          "data": {
            "text/plain": [
              "Index(['Número Licitação', 'Código UG', 'Nome UG', 'Código Modalidade Compra',\n",
              "       'Modalidade Compra', 'Número Processo', 'Objeto', 'Situação Licitação',\n",
              "       'Código Órgão Superior', 'Nome Órgão Superior', 'Código Órgão',\n",
              "       'Nome Órgão', 'UF', 'Município', 'Data Resultado Compra',\n",
              "       'Data Abertura', 'Valor Licitação'],\n",
              "      dtype='object')"
            ]
          },
          "metadata": {},
          "execution_count": 14
        }
      ]
    },
    {
      "cell_type": "code",
      "source": [],
      "metadata": {
        "id": "6OwKpZgQ_xup"
      },
      "execution_count": null,
      "outputs": []
    },
    {
      "cell_type": "markdown",
      "source": [
        "# ** Identifique qual coluna possui valores faltantes**"
      ],
      "metadata": {
        "id": "LkTxx5IoAXE9"
      }
    },
    {
      "cell_type": "code",
      "source": [
        "dados.groupby('Data Abertura',dropna= False)['Data Abertura'].nunique()"
      ],
      "metadata": {
        "colab": {
          "base_uri": "https://localhost:8080/",
          "height": 490
        },
        "id": "30fDdCvWlN7E",
        "outputId": "453a8e3a-ec12-4640-f002-328d178e40b9"
      },
      "execution_count": 17,
      "outputs": [
        {
          "output_type": "execute_result",
          "data": {
            "text/plain": [
              "Data Abertura\n",
              "01/06/2018    1\n",
              "01/10/2018    1\n",
              "01/11/2018    1\n",
              "01/12/2018    1\n",
              "02/04/2018    1\n",
              "             ..\n",
              "31/07/2018    1\n",
              "31/08/2018    1\n",
              "31/10/2018    1\n",
              "31/12/2018    1\n",
              "NaN           0\n",
              "Name: Data Abertura, Length: 180, dtype: int64"
            ],
            "text/html": [
              "<div>\n",
              "<style scoped>\n",
              "    .dataframe tbody tr th:only-of-type {\n",
              "        vertical-align: middle;\n",
              "    }\n",
              "\n",
              "    .dataframe tbody tr th {\n",
              "        vertical-align: top;\n",
              "    }\n",
              "\n",
              "    .dataframe thead th {\n",
              "        text-align: right;\n",
              "    }\n",
              "</style>\n",
              "<table border=\"1\" class=\"dataframe\">\n",
              "  <thead>\n",
              "    <tr style=\"text-align: right;\">\n",
              "      <th></th>\n",
              "      <th>Data Abertura</th>\n",
              "    </tr>\n",
              "    <tr>\n",
              "      <th>Data Abertura</th>\n",
              "      <th></th>\n",
              "    </tr>\n",
              "  </thead>\n",
              "  <tbody>\n",
              "    <tr>\n",
              "      <th>01/06/2018</th>\n",
              "      <td>1</td>\n",
              "    </tr>\n",
              "    <tr>\n",
              "      <th>01/10/2018</th>\n",
              "      <td>1</td>\n",
              "    </tr>\n",
              "    <tr>\n",
              "      <th>01/11/2018</th>\n",
              "      <td>1</td>\n",
              "    </tr>\n",
              "    <tr>\n",
              "      <th>01/12/2018</th>\n",
              "      <td>1</td>\n",
              "    </tr>\n",
              "    <tr>\n",
              "      <th>02/04/2018</th>\n",
              "      <td>1</td>\n",
              "    </tr>\n",
              "    <tr>\n",
              "      <th>...</th>\n",
              "      <td>...</td>\n",
              "    </tr>\n",
              "    <tr>\n",
              "      <th>31/07/2018</th>\n",
              "      <td>1</td>\n",
              "    </tr>\n",
              "    <tr>\n",
              "      <th>31/08/2018</th>\n",
              "      <td>1</td>\n",
              "    </tr>\n",
              "    <tr>\n",
              "      <th>31/10/2018</th>\n",
              "      <td>1</td>\n",
              "    </tr>\n",
              "    <tr>\n",
              "      <th>31/12/2018</th>\n",
              "      <td>1</td>\n",
              "    </tr>\n",
              "    <tr>\n",
              "      <th>NaN</th>\n",
              "      <td>0</td>\n",
              "    </tr>\n",
              "  </tbody>\n",
              "</table>\n",
              "<p>180 rows × 1 columns</p>\n",
              "</div><br><label><b>dtype:</b> int64</label>"
            ]
          },
          "metadata": {},
          "execution_count": 17
        }
      ]
    },
    {
      "cell_type": "markdown",
      "source": [
        "\n",
        "# **Identifique o tipo de dados desta coluna**"
      ],
      "metadata": {
        "id": "mEuBHjbrAhuV"
      }
    },
    {
      "cell_type": "code",
      "source": [
        "dados.info()"
      ],
      "metadata": {
        "colab": {
          "base_uri": "https://localhost:8080/"
        },
        "id": "YFa1PHRqUXVR",
        "outputId": "d47f62b9-4f9f-4763-8670-e8b7499308bd"
      },
      "execution_count": 18,
      "outputs": [
        {
          "output_type": "stream",
          "name": "stdout",
          "text": [
            "<class 'pandas.core.frame.DataFrame'>\n",
            "RangeIndex: 15336 entries, 0 to 15335\n",
            "Data columns (total 17 columns):\n",
            " #   Column                    Non-Null Count  Dtype \n",
            "---  ------                    --------------  ----- \n",
            " 0   Número Licitação          15336 non-null  int64 \n",
            " 1   Código UG                 15336 non-null  int64 \n",
            " 2   Nome UG                   15336 non-null  object\n",
            " 3   Código Modalidade Compra  15336 non-null  int64 \n",
            " 4   Modalidade Compra         15336 non-null  object\n",
            " 5   Número Processo           15336 non-null  object\n",
            " 6   Objeto                    15336 non-null  object\n",
            " 7   Situação Licitação        15336 non-null  object\n",
            " 8   Código Órgão Superior     15336 non-null  int64 \n",
            " 9   Nome Órgão Superior       15336 non-null  object\n",
            " 10  Código Órgão              15336 non-null  int64 \n",
            " 11  Nome Órgão                15336 non-null  object\n",
            " 12  UF                        15336 non-null  object\n",
            " 13  Município                 15336 non-null  object\n",
            " 14  Data Resultado Compra     15336 non-null  object\n",
            " 15  Data Abertura             4688 non-null   object\n",
            " 16  Valor Licitação           15336 non-null  object\n",
            "dtypes: int64(5), object(12)\n",
            "memory usage: 2.0+ MB\n"
          ]
        }
      ]
    },
    {
      "cell_type": "markdown",
      "source": [
        "## **Substitua os valores faltantes pelo mesmo formato **"
      ],
      "metadata": {
        "id": "eeJiO5fGBXB4"
      }
    },
    {
      "cell_type": "code",
      "source": [
        "dados['Data Abertura']= dados['Data Abertura'].fillna('0')"
      ],
      "metadata": {
        "id": "ysQNNVRLBfII"
      },
      "execution_count": 19,
      "outputs": []
    }
  ]
}